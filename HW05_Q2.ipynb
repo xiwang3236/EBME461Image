{
 "cells": [
  {
   "cell_type": "markdown",
   "metadata": {},
   "source": [
    "2.  The DFT of a flat disk of amplitude 1 is F(x,y)=f1(x,y) + jf2(x,y). The DFT of a flat \n",
    "square of amplitude 2 is G(x,y)=g1(x,y) + jg2(x,y). What is the magnitude of the DFT \n",
    "of a flat disk of amplitude 4 added to a square of amplitude -2? This is a really simple \n",
    "problem that you will probably see on an exam. Don’t try to make it difficult! "
   ]
  }
 ],
 "metadata": {
  "language_info": {
   "name": "python"
  }
 },
 "nbformat": 4,
 "nbformat_minor": 2
}
